{
 "cells": [
  {
   "cell_type": "markdown",
   "metadata": {},
   "source": [
    "# Q loves R !"
   ]
  },
  {
   "cell_type": "code",
   "execution_count": 6,
   "metadata": {},
   "outputs": [],
   "source": [
    "import os\n",
    "import glob\n",
    "import pandas as pd"
   ]
  },
  {
   "cell_type": "code",
   "execution_count": 2,
   "metadata": {},
   "outputs": [],
   "source": [
    "def process_txt(txt):\n",
    "    print(f'Processing {txt}')\n",
    "    name = os.path.splitext(os.path.basename(txt))[0]\n",
    "    try:\n",
    "        print('Load as UTF-16')\n",
    "        with open(txt, encoding='UTF-16') as f:\n",
    "            df = pd.read_csv(f, sep='\\t', low_memory=False)\n",
    "    except UnicodeError:\n",
    "        print('!!! Failed. Try iso-8859-1')\n",
    "        df = pd.read_csv(txt, sep='\\t', encoding='iso-8859-1', decimal=\".\", low_memory=False)\n",
    "        \n",
    "    print('Data loaded successfully')\n",
    "    alt_percent = df['alt_depth'] / df['depth']\n",
    "    df.insert(20, 'alt_percent', alt_percent)\n",
    "    contains_FB_HC = df['ZGM_vcf_sources'].str.contains('FB') | df['ZGM_vcf_sources'].str.contains('HC')\n",
    "    \n",
    "    filter_hard_pass = df['filter'].str.contains('HardFiltered') | df['filter'].str.contains('PASS')\n",
    "    #FB >100, HC >300\n",
    "    depth_cols = [name for name in df.columns.values if (name=='depth') or (name=='alt_depth')]\n",
    "    depth_cols_nonzero = df[depth_cols] != 0\n",
    "    depth_cols_nonzero_all = depth_cols_nonzero.all(axis=1)\n",
    "\n",
    "    AF_cols = [name for name in df.columns.values if 'AF_' in name]\n",
    "    threshold = df[AF_cols] < 0.005\n",
    "    threshold_passed = threshold.all(axis=1)\n",
    "    qual_cols = [name for name in df.columns.values if 'qual' in name]\n",
    "    qual_over_100 = df[qual_cols] > 100\n",
    "    qual_passed = qual_over_100.all(axis=1)\n",
    "    filters = contains_FB_HC & filter_hard_pass & depth_cols_nonzero_all & threshold_passed & qual_passed\n",
    "    out = os.path.join(output_path, name + '_filtered.txt')\n",
    "    df[filters].to_csv(out, sep='\\t', index=False)\n",
    "    print(f'Processing of {txt} completed')"
   ]
  },
  {
   "cell_type": "code",
   "execution_count": 8,
   "metadata": {},
   "outputs": [
    {
     "data": {
      "text/plain": [
       "['raw/376.txt',\n",
       " 'raw/484.txt',\n",
       " 'raw/339.txt',\n",
       " 'raw/226.txt',\n",
       " 'raw/367.txt',\n",
       " 'raw/429.txt',\n",
       " 'raw/312.txt',\n",
       " 'raw/352.txt']"
      ]
     },
     "execution_count": 8,
     "metadata": {},
     "output_type": "execute_result"
    }
   ],
   "source": [
    "txts = glob.glob('raw/*.txt')\n",
    "txts"
   ]
  },
  {
   "cell_type": "code",
   "execution_count": null,
   "metadata": {},
   "outputs": [],
   "source": [
    "# dfs = []\n",
    "\n",
    "# for filepath in txts:\n",
    "#     print(f'Processing {filepath}')\n",
    "#     try:\n",
    "#         with open(filepath, encoding='UTF-16') as f:\n",
    "#             df = pd.read_csv(f, sep='\\t', low_memory=False)\n",
    "#     except UnicodeError:\n",
    "#         df = pd.read_csv(filepath, sep='\\t', encoding='iso-8859-1', decimal=\".\", low_memory=False)\n",
    "#     dfs.append(df)\n",
    "#\n",
    "# dfs = pd.concat(dfs)"
   ]
  },
  {
   "cell_type": "code",
   "execution_count": 4,
   "metadata": {},
   "outputs": [],
   "source": [
    "output_path = 'filtered'\n",
    "os.makedirs(name=output_path, exist_ok=True)"
   ]
  },
  {
   "cell_type": "code",
   "execution_count": 5,
   "metadata": {},
   "outputs": [
    {
     "name": "stdout",
     "output_type": "stream",
     "text": [
      "Processing 376.txt\n",
      "Load as UTF-16\n",
      "!!! Failed. Try iso-8859-1\n",
      "Data loaded successfully\n",
      "Processing of 376.txt completed\n",
      "Processing 484.txt\n",
      "Load as UTF-16\n",
      "Data loaded successfully\n",
      "Processing of 484.txt completed\n",
      "Processing 339.txt\n",
      "Load as UTF-16\n",
      "!!! Failed. Try iso-8859-1\n",
      "Data loaded successfully\n",
      "Processing of 339.txt completed\n",
      "Processing 226.txt\n",
      "Load as UTF-16\n",
      "!!! Failed. Try iso-8859-1\n",
      "Data loaded successfully\n",
      "Processing of 226.txt completed\n",
      "Processing 367.txt\n",
      "Load as UTF-16\n",
      "!!! Failed. Try iso-8859-1\n",
      "Data loaded successfully\n",
      "Processing of 367.txt completed\n",
      "Processing 429.txt\n",
      "Load as UTF-16\n",
      "Data loaded successfully\n",
      "Processing of 429.txt completed\n",
      "Processing 312.txt\n",
      "Load as UTF-16\n",
      "Data loaded successfully\n",
      "Processing of 312.txt completed\n",
      "Processing 352.txt\n",
      "Load as UTF-16\n",
      "Data loaded successfully\n",
      "Processing of 352.txt completed\n"
     ]
    }
   ],
   "source": [
    "for filepath in txts:\n",
    "    process_txt(filepath)"
   ]
  },
  {
   "cell_type": "code",
   "execution_count": null,
   "metadata": {},
   "outputs": [],
   "source": []
  }
 ],
 "metadata": {
  "kernelspec": {
   "display_name": "Python 3",
   "language": "python",
   "name": "python3"
  },
  "language_info": {
   "codemirror_mode": {
    "name": "ipython",
    "version": 3
   },
   "file_extension": ".py",
   "mimetype": "text/x-python",
   "name": "python",
   "nbconvert_exporter": "python",
   "pygments_lexer": "ipython3",
   "version": "3.7.3"
  }
 },
 "nbformat": 4,
 "nbformat_minor": 4
}
