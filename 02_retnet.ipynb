{
 "cells": [
  {
   "cell_type": "markdown",
   "metadata": {},
   "source": [
    "# RetNet filtering"
   ]
  },
  {
   "cell_type": "code",
   "execution_count": 1,
   "metadata": {},
   "outputs": [],
   "source": [
    "import os\n",
    "import glob\n",
    "import pandas as pd"
   ]
  },
  {
   "cell_type": "code",
   "execution_count": 2,
   "metadata": {},
   "outputs": [],
   "source": [
    "retnet_url = 'https://sph.uth.edu/retnet/disease.htm'\n",
    "filtered_dir = 'filtered/*.txt'\n",
    "output_dir = 'retnet_filtered'"
   ]
  },
  {
   "cell_type": "markdown",
   "metadata": {},
   "source": [
    "We start by reading in the data from HTML. Since on the web site the data is split into multiple tables, we have to concatenate the result."
   ]
  },
  {
   "cell_type": "code",
   "execution_count": 3,
   "metadata": {},
   "outputs": [
    {
     "data": {
      "text/html": [
       "<div>\n",
       "<style scoped>\n",
       "    .dataframe tbody tr th:only-of-type {\n",
       "        vertical-align: middle;\n",
       "    }\n",
       "\n",
       "    .dataframe tbody tr th {\n",
       "        vertical-align: top;\n",
       "    }\n",
       "\n",
       "    .dataframe thead th {\n",
       "        text-align: right;\n",
       "    }\n",
       "</style>\n",
       "<table border=\"1\" class=\"dataframe\">\n",
       "  <thead>\n",
       "    <tr style=\"text-align: right;\">\n",
       "      <th></th>\n",
       "      <th>Symbols;OMIM Numbers</th>\n",
       "      <th>Location</th>\n",
       "      <th>Diseases;Protein</th>\n",
       "      <th>How Identified;Comments</th>\n",
       "      <th>References</th>\n",
       "    </tr>\n",
       "  </thead>\n",
       "  <tbody>\n",
       "    <tr>\n",
       "      <th>0</th>\n",
       "      <td>SAMD11; 616765</td>\n",
       "      <td>1p36.33</td>\n",
       "      <td>recessive retinitis pigmentosa; protein: steri...</td>\n",
       "      <td>homozygosity mapping, whole-exome sequencing; ...</td>\n",
       "      <td>Corton 16</td>\n",
       "    </tr>\n",
       "    <tr>\n",
       "      <th>1</th>\n",
       "      <td>NPHP4, SLSN4; 606966, 606996, 607215</td>\n",
       "      <td>1p36.31</td>\n",
       "      <td>recessive Senior-Loken syndrome; recessive nep...</td>\n",
       "      <td>linkage mapping, candidate gene; Senior-Loken ...</td>\n",
       "      <td>Mollet 02; Otto 02; Schuermann 02</td>\n",
       "    </tr>\n",
       "    <tr>\n",
       "      <th>2</th>\n",
       "      <td>ESPN, DFNB36; 606351, 609006</td>\n",
       "      <td>1p36.31</td>\n",
       "      <td>recessive Usher syndrome; protein: espin prote...</td>\n",
       "      <td>homozygosity mapping, whole-exome sequencing; ...</td>\n",
       "      <td>Ahmed 18; Donaudy 06; Naz 04</td>\n",
       "    </tr>\n",
       "    <tr>\n",
       "      <th>3</th>\n",
       "      <td>NMNAT1, LCA9, PNAT1; 204000, 608553, 608700</td>\n",
       "      <td>1p36.22</td>\n",
       "      <td>recessive Leber congenital amaurosis; protein:...</td>\n",
       "      <td>linkage mapping, whole-exome sequencing; a hom...</td>\n",
       "      <td>Chiang 12; Falk 12; Keen 03; Koenekoop 12; Per...</td>\n",
       "    </tr>\n",
       "    <tr>\n",
       "      <th>4</th>\n",
       "      <td>MFN2, CMT6, CMT2A2, MARF; 608507, 609260, 601152</td>\n",
       "      <td>1p36.22</td>\n",
       "      <td>dominant optic atrophy with neuropathy and myo...</td>\n",
       "      <td>candidate gene; dominant mutation in a large T...</td>\n",
       "      <td>Rouzier 12</td>\n",
       "    </tr>\n",
       "  </tbody>\n",
       "</table>\n",
       "</div>"
      ],
      "text/plain": [
       "                               Symbols;OMIM Numbers Location  \\\n",
       "0                                    SAMD11; 616765  1p36.33   \n",
       "1              NPHP4, SLSN4; 606966, 606996, 607215  1p36.31   \n",
       "2                      ESPN, DFNB36; 606351, 609006  1p36.31   \n",
       "3       NMNAT1, LCA9, PNAT1; 204000, 608553, 608700  1p36.22   \n",
       "4  MFN2, CMT6, CMT2A2, MARF; 608507, 609260, 601152  1p36.22   \n",
       "\n",
       "                                    Diseases;Protein  \\\n",
       "0  recessive retinitis pigmentosa; protein: steri...   \n",
       "1  recessive Senior-Loken syndrome; recessive nep...   \n",
       "2  recessive Usher syndrome; protein: espin prote...   \n",
       "3  recessive Leber congenital amaurosis; protein:...   \n",
       "4  dominant optic atrophy with neuropathy and myo...   \n",
       "\n",
       "                             How Identified;Comments  \\\n",
       "0  homozygosity mapping, whole-exome sequencing; ...   \n",
       "1  linkage mapping, candidate gene; Senior-Loken ...   \n",
       "2  homozygosity mapping, whole-exome sequencing; ...   \n",
       "3  linkage mapping, whole-exome sequencing; a hom...   \n",
       "4  candidate gene; dominant mutation in a large T...   \n",
       "\n",
       "                                          References  \n",
       "0                                          Corton 16  \n",
       "1                  Mollet 02; Otto 02; Schuermann 02  \n",
       "2                       Ahmed 18; Donaudy 06; Naz 04  \n",
       "3  Chiang 12; Falk 12; Keen 03; Koenekoop 12; Per...  \n",
       "4                                         Rouzier 12  "
      ]
     },
     "execution_count": 3,
     "metadata": {},
     "output_type": "execute_result"
    }
   ],
   "source": [
    "retnet_dfs = pd.read_html(retnet_url, header=1)\n",
    "retnet_df = pd.concat(retnet_dfs, ignore_index=True)\n",
    "retnet_df.head()"
   ]
  },
  {
   "cell_type": "markdown",
   "metadata": {},
   "source": [
    "We're interested in getting names of all genes - and they happen to be the first entry in the `Symbols;OMIM Numbers` column. To extract only the first word, we use a regular expression."
   ]
  },
  {
   "cell_type": "code",
   "execution_count": 4,
   "metadata": {},
   "outputs": [
    {
     "data": {
      "text/html": [
       "<div>\n",
       "<style scoped>\n",
       "    .dataframe tbody tr th:only-of-type {\n",
       "        vertical-align: middle;\n",
       "    }\n",
       "\n",
       "    .dataframe tbody tr th {\n",
       "        vertical-align: top;\n",
       "    }\n",
       "\n",
       "    .dataframe thead th {\n",
       "        text-align: right;\n",
       "    }\n",
       "</style>\n",
       "<table border=\"1\" class=\"dataframe\">\n",
       "  <thead>\n",
       "    <tr style=\"text-align: right;\">\n",
       "      <th></th>\n",
       "      <th>Symbols;OMIM Numbers</th>\n",
       "      <th>Location</th>\n",
       "      <th>Diseases;Protein</th>\n",
       "      <th>How Identified;Comments</th>\n",
       "      <th>References</th>\n",
       "      <th>gene</th>\n",
       "    </tr>\n",
       "  </thead>\n",
       "  <tbody>\n",
       "    <tr>\n",
       "      <th>0</th>\n",
       "      <td>SAMD11; 616765</td>\n",
       "      <td>1p36.33</td>\n",
       "      <td>recessive retinitis pigmentosa; protein: steri...</td>\n",
       "      <td>homozygosity mapping, whole-exome sequencing; ...</td>\n",
       "      <td>Corton 16</td>\n",
       "      <td>SAMD11</td>\n",
       "    </tr>\n",
       "    <tr>\n",
       "      <th>1</th>\n",
       "      <td>NPHP4, SLSN4; 606966, 606996, 607215</td>\n",
       "      <td>1p36.31</td>\n",
       "      <td>recessive Senior-Loken syndrome; recessive nep...</td>\n",
       "      <td>linkage mapping, candidate gene; Senior-Loken ...</td>\n",
       "      <td>Mollet 02; Otto 02; Schuermann 02</td>\n",
       "      <td>NPHP4</td>\n",
       "    </tr>\n",
       "    <tr>\n",
       "      <th>2</th>\n",
       "      <td>ESPN, DFNB36; 606351, 609006</td>\n",
       "      <td>1p36.31</td>\n",
       "      <td>recessive Usher syndrome; protein: espin prote...</td>\n",
       "      <td>homozygosity mapping, whole-exome sequencing; ...</td>\n",
       "      <td>Ahmed 18; Donaudy 06; Naz 04</td>\n",
       "      <td>ESPN</td>\n",
       "    </tr>\n",
       "    <tr>\n",
       "      <th>3</th>\n",
       "      <td>NMNAT1, LCA9, PNAT1; 204000, 608553, 608700</td>\n",
       "      <td>1p36.22</td>\n",
       "      <td>recessive Leber congenital amaurosis; protein:...</td>\n",
       "      <td>linkage mapping, whole-exome sequencing; a hom...</td>\n",
       "      <td>Chiang 12; Falk 12; Keen 03; Koenekoop 12; Per...</td>\n",
       "      <td>NMNAT1</td>\n",
       "    </tr>\n",
       "    <tr>\n",
       "      <th>4</th>\n",
       "      <td>MFN2, CMT6, CMT2A2, MARF; 608507, 609260, 601152</td>\n",
       "      <td>1p36.22</td>\n",
       "      <td>dominant optic atrophy with neuropathy and myo...</td>\n",
       "      <td>candidate gene; dominant mutation in a large T...</td>\n",
       "      <td>Rouzier 12</td>\n",
       "      <td>MFN2</td>\n",
       "    </tr>\n",
       "  </tbody>\n",
       "</table>\n",
       "</div>"
      ],
      "text/plain": [
       "                               Symbols;OMIM Numbers Location  \\\n",
       "0                                    SAMD11; 616765  1p36.33   \n",
       "1              NPHP4, SLSN4; 606966, 606996, 607215  1p36.31   \n",
       "2                      ESPN, DFNB36; 606351, 609006  1p36.31   \n",
       "3       NMNAT1, LCA9, PNAT1; 204000, 608553, 608700  1p36.22   \n",
       "4  MFN2, CMT6, CMT2A2, MARF; 608507, 609260, 601152  1p36.22   \n",
       "\n",
       "                                    Diseases;Protein  \\\n",
       "0  recessive retinitis pigmentosa; protein: steri...   \n",
       "1  recessive Senior-Loken syndrome; recessive nep...   \n",
       "2  recessive Usher syndrome; protein: espin prote...   \n",
       "3  recessive Leber congenital amaurosis; protein:...   \n",
       "4  dominant optic atrophy with neuropathy and myo...   \n",
       "\n",
       "                             How Identified;Comments  \\\n",
       "0  homozygosity mapping, whole-exome sequencing; ...   \n",
       "1  linkage mapping, candidate gene; Senior-Loken ...   \n",
       "2  homozygosity mapping, whole-exome sequencing; ...   \n",
       "3  linkage mapping, whole-exome sequencing; a hom...   \n",
       "4  candidate gene; dominant mutation in a large T...   \n",
       "\n",
       "                                          References    gene  \n",
       "0                                          Corton 16  SAMD11  \n",
       "1                  Mollet 02; Otto 02; Schuermann 02   NPHP4  \n",
       "2                       Ahmed 18; Donaudy 06; Naz 04    ESPN  \n",
       "3  Chiang 12; Falk 12; Keen 03; Koenekoop 12; Per...  NMNAT1  \n",
       "4                                         Rouzier 12    MFN2  "
      ]
     },
     "execution_count": 4,
     "metadata": {},
     "output_type": "execute_result"
    }
   ],
   "source": [
    "retnet_df['gene'] = retnet_df['Symbols;OMIM Numbers'].str.extract('(^\\w+)')\n",
    "retnet_df.head()"
   ]
  },
  {
   "cell_type": "markdown",
   "metadata": {},
   "source": [
    "These genes will be now used to further filter results obtained in [filtering notebook](01_filtering.ipynb)."
   ]
  },
  {
   "cell_type": "code",
   "execution_count": 5,
   "metadata": {},
   "outputs": [
    {
     "name": "stdout",
     "output_type": "stream",
     "text": [
      "Files considered for further filtering:\n"
     ]
    },
    {
     "data": {
      "text/plain": [
       "['filtered/376_filtered.txt',\n",
       " 'filtered/484_filtered.txt',\n",
       " 'filtered/226_filtered.txt',\n",
       " 'filtered/352_filtered.txt',\n",
       " 'filtered/339_filtered.txt',\n",
       " 'filtered/429_filtered.txt',\n",
       " 'filtered/312_filtered.txt',\n",
       " 'filtered/367_filtered.txt']"
      ]
     },
     "execution_count": 5,
     "metadata": {},
     "output_type": "execute_result"
    }
   ],
   "source": [
    "filtered_path = glob.glob(filtered_dir)\n",
    "print('Files considered for further filtering:')\n",
    "filtered_path"
   ]
  },
  {
   "cell_type": "markdown",
   "metadata": {},
   "source": [
    "We use inner join to create a new data frame that contains only those records that are matched by `gene` in both tables. The result is saved to a new folder."
   ]
  },
  {
   "cell_type": "code",
   "execution_count": 6,
   "metadata": {},
   "outputs": [],
   "source": [
    "os.makedirs(output_dir, exist_ok=True)\n",
    "\n",
    "for path in filtered_path:\n",
    "    filtered_df = pd.read_csv(path, sep='\\t')\n",
    "    filename = os.path.basename(path)\n",
    "    filename_without_extension = os.path.splitext(filename)[0]\n",
    "    new_filename = filename_without_extension + '_retnet.csv'\n",
    "    full_output_path = os.path.join(output_dir, new_filename)\n",
    "    df = pd.merge(left=filtered_df, right=retnet_df, how='inner', on='gene')\n",
    "    df.to_csv(full_output_path)"
   ]
  },
  {
   "cell_type": "code",
   "execution_count": null,
   "metadata": {},
   "outputs": [],
   "source": []
  }
 ],
 "metadata": {
  "kernelspec": {
   "display_name": "Python 3",
   "language": "python",
   "name": "python3"
  },
  "language_info": {
   "codemirror_mode": {
    "name": "ipython",
    "version": 3
   },
   "file_extension": ".py",
   "mimetype": "text/x-python",
   "name": "python",
   "nbconvert_exporter": "python",
   "pygments_lexer": "ipython3",
   "version": "3.7.3"
  }
 },
 "nbformat": 4,
 "nbformat_minor": 4
}
